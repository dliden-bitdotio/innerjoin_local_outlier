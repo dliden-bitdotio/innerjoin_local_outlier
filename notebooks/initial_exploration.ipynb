{
 "cells": [
  {
   "cell_type": "markdown",
   "id": "75b24bec-3e4b-47d0-beef-c147ad6204ff",
   "metadata": {},
   "source": [
    "# Introduction\n",
    "\n",
    "The goal of this short report is to describe the Local Outlier Factor algorithm and to present an interactive data visualization allowing for some hyperparameter tweaking using plotly."
   ]
  },
  {
   "cell_type": "markdown",
   "id": "10b3278f-b374-4030-847e-1c1596d2d91c",
   "metadata": {},
   "source": [
    "# Useful Resources\n",
    "- https://jennifer-banks8585.medium.com/how-to-embed-interactive-plotly-visualizations-on-medium-blogs-710209f93bd\n",
    "- https://docs.datapane.com/reports/embedding-reports-in-social-platforms\n",
    "\n",
    "Datapane seems better!\n",
    "\n",
    "- point sizes in plotly: https://stackoverflow.com/questions/47086547/set-marker-size-based-on-coordinate-values-not-pixels-in-plotly-r\n",
    "\n",
    "# Setup"
   ]
  },
  {
   "cell_type": "code",
   "execution_count": 103,
   "id": "33814c03-dd7a-40f7-bd21-ed534858aed4",
   "metadata": {},
   "outputs": [],
   "source": [
    "# Setup\n",
    "import os\n",
    "import chart_studio\n",
    "from dotenv import load_dotenv\n",
    "import matplotlib.pyplot as plt\n",
    "import numpy as np\n",
    "import pandas as pd\n",
    "from sklearn.datasets import make_blobs\n",
    "from sklearn.neighbors import LocalOutlierFactor\n",
    "import plotly.express as px\n",
    "import plotly.graph_objects as go\n",
    "import datapane as dp\n",
    "\n",
    "GREY = '#788995'\n",
    "BLUE = '#0059ff'\n",
    "GOLD = '#fdbd28'\n",
    "GREEN = '#28D9AA'\n",
    "RED = '#EE5149'\n",
    "METAL_SUN = '#AD8D40'\n",
    "DARK_ORCHID = '#9A34D1'\n",
    "MAGENTA = '#8A4859'\n",
    "OXFORD = '#121C3B'\n",
    "PINK = '#DB9995'"
   ]
  },
  {
   "cell_type": "code",
   "execution_count": 2,
   "id": "a53bc4ac-6980-4312-8cc9-d9256d875d1b",
   "metadata": {},
   "outputs": [
    {
     "data": {
      "text/plain": [
       "True"
      ]
     },
     "execution_count": 2,
     "metadata": {},
     "output_type": "execute_result"
    }
   ],
   "source": [
    "load_dotenv()"
   ]
  },
  {
   "cell_type": "markdown",
   "id": "a47719e2-9f27-43c8-a9d1-752c1c5ece5d",
   "metadata": {},
   "source": [
    "# Simulation\n",
    "\n",
    "Here we simulate some really simple data and manually add outliers."
   ]
  },
  {
   "cell_type": "code",
   "execution_count": 129,
   "id": "73eeed66-6acd-4cb2-94de-eb92824339ac",
   "metadata": {},
   "outputs": [
    {
     "data": {
      "text/plain": [
       "Text(0.5, 1.0, 'Three Blobs with Outliers')"
      ]
     },
     "execution_count": 129,
     "metadata": {},
     "output_type": "execute_result"
    },
    {
     "data": {
      "image/png": "[encoded data removed]",
      "text/plain": [
       "<Figure size 450x450 with 1 Axes>"
      ]
     },
     "metadata": {
      "needs_background": "light"
     },
     "output_type": "display_data"
    }
   ],
   "source": [
    "sim_data = make_blobs(n_samples=[50, 100, 250], n_features=2, centers=[(2,2), (3,2), (2, 5)],\n",
    "                      cluster_std=[0.2, 0.1, 0.4], random_state=12)\n",
    "\n",
    "data = pd.DataFrame(sim_data[0])\n",
    "\n",
    "data[\"outlier\"] = 1\n",
    "outliers = {0:[1, 4, 3.5, 0.5, 3.6, 3.7], 1:[1, 0, 4, 5, 2, 1.8],\n",
    "           \"outlier\":-1}\n",
    "data = data.append(pd.DataFrame(outliers))\n",
    "data.columns = [\"x\",\"y\",\"outlier\"]\n",
    "\n",
    "fix, ax = plt.subplots(figsize=(3,3), dpi=150)\n",
    "plt.scatter(x=\"x\", y=\"y\", data=data[data.outlier==1], s=2)\n",
    "plt.scatter(x=\"x\", y=\"y\", data=data[data.outlier==-1], s=2)\n",
    "ax.set_xlabel(\"x\")\n",
    "ax.set_ylabel(\"y\")\n",
    "\n",
    "\n",
    "plt.title(\"Three Blobs with Outliers\")"
   ]
  },
  {
   "cell_type": "markdown",
   "id": "98b54ad4-9aaf-49e1-9997-d5da1298b970",
   "metadata": {},
   "source": [
    "# Local Outlier Factor\n",
    "Here we quickly verify that the local outlier factor method will work as intended."
   ]
  },
  {
   "cell_type": "code",
   "execution_count": 130,
   "id": "2f2fe3c1-8612-46dc-9544-e5553042b7ff",
   "metadata": {},
   "outputs": [
    {
     "data": {
      "text/html": [
       "<div>\n",
       "<style scoped>\n",
       "    .dataframe tbody tr th:only-of-type {\n",
       "        vertical-align: middle;\n",
       "    }\n",
       "\n",
       "    .dataframe tbody tr th {\n",
       "        vertical-align: top;\n",
       "    }\n",
       "\n",
       "    .dataframe thead th {\n",
       "        text-align: right;\n",
       "    }\n",
       "</style>\n",
       "<table border=\"1\" class=\"dataframe\">\n",
       "  <thead>\n",
       "    <tr style=\"text-align: right;\">\n",
       "      <th></th>\n",
       "      <th>x</th>\n",
       "      <th>y</th>\n",
       "      <th>outlier</th>\n",
       "      <th>lof_class</th>\n",
       "      <th>lof</th>\n",
       "    </tr>\n",
       "  </thead>\n",
       "  <tbody>\n",
       "    <tr>\n",
       "      <th>0</th>\n",
       "      <td>2.435101</td>\n",
       "      <td>4.640673</td>\n",
       "      <td>1</td>\n",
       "      <td>1</td>\n",
       "      <td>1.044350</td>\n",
       "    </tr>\n",
       "    <tr>\n",
       "      <th>1</th>\n",
       "      <td>1.435299</td>\n",
       "      <td>5.273166</td>\n",
       "      <td>1</td>\n",
       "      <td>1</td>\n",
       "      <td>1.169545</td>\n",
       "    </tr>\n",
       "    <tr>\n",
       "      <th>2</th>\n",
       "      <td>1.024900</td>\n",
       "      <td>5.648835</td>\n",
       "      <td>1</td>\n",
       "      <td>-1</td>\n",
       "      <td>1.862570</td>\n",
       "    </tr>\n",
       "    <tr>\n",
       "      <th>3</th>\n",
       "      <td>2.306930</td>\n",
       "      <td>5.229041</td>\n",
       "      <td>1</td>\n",
       "      <td>1</td>\n",
       "      <td>1.014627</td>\n",
       "    </tr>\n",
       "    <tr>\n",
       "      <th>4</th>\n",
       "      <td>1.697930</td>\n",
       "      <td>5.260673</td>\n",
       "      <td>1</td>\n",
       "      <td>1</td>\n",
       "      <td>1.005531</td>\n",
       "    </tr>\n",
       "  </tbody>\n",
       "</table>\n",
       "</div>"
      ],
      "text/plain": [
       "          x         y  outlier  lof_class       lof\n",
       "0  2.435101  4.640673        1          1  1.044350\n",
       "1  1.435299  5.273166        1          1  1.169545\n",
       "2  1.024900  5.648835        1         -1  1.862570\n",
       "3  2.306930  5.229041        1          1  1.014627\n",
       "4  1.697930  5.260673        1          1  1.005531"
      ]
     },
     "execution_count": 130,
     "metadata": {},
     "output_type": "execute_result"
    }
   ],
   "source": [
    "clf = LocalOutlierFactor(n_neighbors=50, contamination=\"auto\")\n",
    "X = data.loc[:,(\"x\",\"y\")].values\n",
    "y_pred = clf.fit_predict(X)\n",
    "data[\"lof_class\"] = y_pred\n",
    "data[\"lof\"] = np.abs(clf.negative_outlier_factor_)\n",
    "data.head()"
   ]
  },
  {
   "cell_type": "code",
   "execution_count": 131,
   "id": "adbca29a-7c76-48e2-bdb5-dbe562615bc2",
   "metadata": {},
   "outputs": [
    {
     "data": {
      "text/plain": [
       "array([[  6,   0],\n",
       "       [ 18, 382]])"
      ]
     },
     "execution_count": 131,
     "metadata": {},
     "output_type": "execute_result"
    }
   ],
   "source": [
    "from sklearn.metrics import confusion_matrix\n",
    "\n",
    "confusion_matrix(data.outlier, data.lof_class)"
   ]
  },
  {
   "cell_type": "code",
   "execution_count": 132,
   "id": "33e85d57-0382-47e7-9504-7530c2f22cab",
   "metadata": {},
   "outputs": [
    {
     "data": {
      "text/plain": [
       "Text(0.5, 1.0, 'LOF classified outliers more aggressively')"
      ]
     },
     "execution_count": 132,
     "metadata": {},
     "output_type": "execute_result"
    },
    {
     "data": {
      "image/png": "[encoded data removed]",
      "text/plain": [
       "<Figure size 450x450 with 1 Axes>"
      ]
     },
     "metadata": {
      "needs_background": "light"
     },
     "output_type": "display_data"
    }
   ],
   "source": [
    "ix, ax = plt.subplots(figsize=(3,3), dpi=150)\n",
    "plt.scatter(x=\"x\", y=\"y\", data=data[data.lof_class==1], s=4)\n",
    "plt.scatter(x=\"x\", y=\"y\", data=data[data.lof_class==-1], s=4)\n",
    "ax.set_xlabel(\"x\")\n",
    "ax.set_ylabel(\"y\")\n",
    "plt.title(\"LOF classified outliers more aggressively\")"
   ]
  },
  {
   "cell_type": "markdown",
   "id": "8a14d205-b3f1-4799-9264-855680b3f5ff",
   "metadata": {},
   "source": [
    "# Results for Different Numbers of Neighbors"
   ]
  },
  {
   "cell_type": "code",
   "execution_count": 133,
   "id": "ba4a1902-c1c2-4cf2-be8e-249c163d97cc",
   "metadata": {},
   "outputs": [],
   "source": [
    "# Prepare range of k\n",
    "X = data.loc[:,(\"x\",\"y\")].values\n",
    "outclass = []\n",
    "\n",
    "for i in range(5, 205, 5):\n",
    "    clf = LocalOutlierFactor(n_neighbors=i, contamination=\"auto\")\n",
    "    y_pred = clf.fit_predict(X)\n",
    "    score = clf.negative_outlier_factor_\n",
    "    radius = (score.max() - score) / (score.max() - score.min())\n",
    "    outclass += [np.array([y_pred, [i]*len(y_pred), score, radius]).T]"
   ]
  },
  {
   "cell_type": "code",
   "execution_count": 134,
   "id": "ceca7be4-276b-4df8-ba0f-b320bf8df375",
   "metadata": {},
   "outputs": [],
   "source": [
    "id = np.arange(1,len(X)+1,1)\n",
    "df = pd.DataFrame(np.concatenate(outclass), columns = (\"outlier_pred\", \"neighbors\",\n",
    "                                                       \"lof\", \"radius\"))\n",
    "df[\"outlier_pred_n\"] = np.where(df[\"outlier_pred\"]==1, \"Not an Outlier\", \"Outlier\")\n",
    "coords = pd.DataFrame(np.tile(X, (40,1)), columns=(\"x\",\"y\"))\n",
    "df_interact = pd.concat([coords,df], axis=1)\n",
    "df_interact[\"uid\"] = np.tile(id, 40)"
   ]
  },
  {
   "cell_type": "code",
   "execution_count": 135,
   "id": "2effa5e7-d5d7-4882-8d0a-c07f65d5fc49",
   "metadata": {},
   "outputs": [
    {
     "data": {
      "text/html": [
       "<div>\n",
       "<style scoped>\n",
       "    .dataframe tbody tr th:only-of-type {\n",
       "        vertical-align: middle;\n",
       "    }\n",
       "\n",
       "    .dataframe tbody tr th {\n",
       "        vertical-align: top;\n",
       "    }\n",
       "\n",
       "    .dataframe thead th {\n",
       "        text-align: right;\n",
       "    }\n",
       "</style>\n",
       "<table border=\"1\" class=\"dataframe\">\n",
       "  <thead>\n",
       "    <tr style=\"text-align: right;\">\n",
       "      <th></th>\n",
       "      <th>x</th>\n",
       "      <th>y</th>\n",
       "      <th>outlier_pred</th>\n",
       "      <th>neighbors</th>\n",
       "      <th>lof</th>\n",
       "      <th>radius</th>\n",
       "      <th>outlier_pred_n</th>\n",
       "      <th>uid</th>\n",
       "    </tr>\n",
       "  </thead>\n",
       "  <tbody>\n",
       "    <tr>\n",
       "      <th>0</th>\n",
       "      <td>2.435101</td>\n",
       "      <td>4.640673</td>\n",
       "      <td>1.0</td>\n",
       "      <td>5.0</td>\n",
       "      <td>-1.066270</td>\n",
       "      <td>0.015062</td>\n",
       "      <td>Not an Outlier</td>\n",
       "      <td>1</td>\n",
       "    </tr>\n",
       "    <tr>\n",
       "      <th>1</th>\n",
       "      <td>1.435299</td>\n",
       "      <td>5.273166</td>\n",
       "      <td>1.0</td>\n",
       "      <td>5.0</td>\n",
       "      <td>-1.071748</td>\n",
       "      <td>0.015547</td>\n",
       "      <td>Not an Outlier</td>\n",
       "      <td>2</td>\n",
       "    </tr>\n",
       "    <tr>\n",
       "      <th>2</th>\n",
       "      <td>1.024900</td>\n",
       "      <td>5.648835</td>\n",
       "      <td>-1.0</td>\n",
       "      <td>5.0</td>\n",
       "      <td>-1.864578</td>\n",
       "      <td>0.085715</td>\n",
       "      <td>Outlier</td>\n",
       "      <td>3</td>\n",
       "    </tr>\n",
       "    <tr>\n",
       "      <th>3</th>\n",
       "      <td>2.306930</td>\n",
       "      <td>5.229041</td>\n",
       "      <td>1.0</td>\n",
       "      <td>5.0</td>\n",
       "      <td>-1.021006</td>\n",
       "      <td>0.011056</td>\n",
       "      <td>Not an Outlier</td>\n",
       "      <td>4</td>\n",
       "    </tr>\n",
       "    <tr>\n",
       "      <th>4</th>\n",
       "      <td>1.697930</td>\n",
       "      <td>5.260673</td>\n",
       "      <td>1.0</td>\n",
       "      <td>5.0</td>\n",
       "      <td>-0.989475</td>\n",
       "      <td>0.008265</td>\n",
       "      <td>Not an Outlier</td>\n",
       "      <td>5</td>\n",
       "    </tr>\n",
       "    <tr>\n",
       "      <th>...</th>\n",
       "      <td>...</td>\n",
       "      <td>...</td>\n",
       "      <td>...</td>\n",
       "      <td>...</td>\n",
       "      <td>...</td>\n",
       "      <td>...</td>\n",
       "      <td>...</td>\n",
       "      <td>...</td>\n",
       "    </tr>\n",
       "    <tr>\n",
       "      <th>16235</th>\n",
       "      <td>4.000000</td>\n",
       "      <td>0.000000</td>\n",
       "      <td>-1.0</td>\n",
       "      <td>200.0</td>\n",
       "      <td>-1.726692</td>\n",
       "      <td>0.954000</td>\n",
       "      <td>Outlier</td>\n",
       "      <td>402</td>\n",
       "    </tr>\n",
       "    <tr>\n",
       "      <th>16236</th>\n",
       "      <td>3.500000</td>\n",
       "      <td>4.000000</td>\n",
       "      <td>-1.0</td>\n",
       "      <td>200.0</td>\n",
       "      <td>-1.762918</td>\n",
       "      <td>1.000000</td>\n",
       "      <td>Outlier</td>\n",
       "      <td>403</td>\n",
       "    </tr>\n",
       "    <tr>\n",
       "      <th>16237</th>\n",
       "      <td>0.500000</td>\n",
       "      <td>5.000000</td>\n",
       "      <td>-1.0</td>\n",
       "      <td>200.0</td>\n",
       "      <td>-1.618258</td>\n",
       "      <td>0.816309</td>\n",
       "      <td>Outlier</td>\n",
       "      <td>404</td>\n",
       "    </tr>\n",
       "    <tr>\n",
       "      <th>16238</th>\n",
       "      <td>3.600000</td>\n",
       "      <td>2.000000</td>\n",
       "      <td>1.0</td>\n",
       "      <td>200.0</td>\n",
       "      <td>-1.460512</td>\n",
       "      <td>0.616001</td>\n",
       "      <td>Not an Outlier</td>\n",
       "      <td>405</td>\n",
       "    </tr>\n",
       "    <tr>\n",
       "      <th>16239</th>\n",
       "      <td>3.700000</td>\n",
       "      <td>1.800000</td>\n",
       "      <td>1.0</td>\n",
       "      <td>200.0</td>\n",
       "      <td>-1.487083</td>\n",
       "      <td>0.649741</td>\n",
       "      <td>Not an Outlier</td>\n",
       "      <td>406</td>\n",
       "    </tr>\n",
       "  </tbody>\n",
       "</table>\n",
       "<p>16240 rows × 8 columns</p>\n",
       "</div>"
      ],
      "text/plain": [
       "              x         y  outlier_pred  neighbors       lof    radius  \\\n",
       "0      2.435101  4.640673           1.0        5.0 -1.066270  0.015062   \n",
       "1      1.435299  5.273166           1.0        5.0 -1.071748  0.015547   \n",
       "2      1.024900  5.648835          -1.0        5.0 -1.864578  0.085715   \n",
       "3      2.306930  5.229041           1.0        5.0 -1.021006  0.011056   \n",
       "4      1.697930  5.260673           1.0        5.0 -0.989475  0.008265   \n",
       "...         ...       ...           ...        ...       ...       ...   \n",
       "16235  4.000000  0.000000          -1.0      200.0 -1.726692  0.954000   \n",
       "16236  3.500000  4.000000          -1.0      200.0 -1.762918  1.000000   \n",
       "16237  0.500000  5.000000          -1.0      200.0 -1.618258  0.816309   \n",
       "16238  3.600000  2.000000           1.0      200.0 -1.460512  0.616001   \n",
       "16239  3.700000  1.800000           1.0      200.0 -1.487083  0.649741   \n",
       "\n",
       "       outlier_pred_n  uid  \n",
       "0      Not an Outlier    1  \n",
       "1      Not an Outlier    2  \n",
       "2             Outlier    3  \n",
       "3      Not an Outlier    4  \n",
       "4      Not an Outlier    5  \n",
       "...               ...  ...  \n",
       "16235         Outlier  402  \n",
       "16236         Outlier  403  \n",
       "16237         Outlier  404  \n",
       "16238  Not an Outlier  405  \n",
       "16239  Not an Outlier  406  \n",
       "\n",
       "[16240 rows x 8 columns]"
      ]
     },
     "execution_count": 135,
     "metadata": {},
     "output_type": "execute_result"
    }
   ],
   "source": [
    "df_interact"
   ]
  },
  {
   "cell_type": "code",
   "execution_count": 136,
   "id": "d0d8a463-ab53-4458-960d-d3098ff957e7",
   "metadata": {},
   "outputs": [
    {
     "data": {
      "text/html": [
       "<div>\n",
       "<style scoped>\n",
       "    .dataframe tbody tr th:only-of-type {\n",
       "        vertical-align: middle;\n",
       "    }\n",
       "\n",
       "    .dataframe tbody tr th {\n",
       "        vertical-align: top;\n",
       "    }\n",
       "\n",
       "    .dataframe thead th {\n",
       "        text-align: right;\n",
       "    }\n",
       "</style>\n",
       "<table border=\"1\" class=\"dataframe\">\n",
       "  <thead>\n",
       "    <tr style=\"text-align: right;\">\n",
       "      <th></th>\n",
       "      <th>x</th>\n",
       "      <th>y</th>\n",
       "      <th>outlier_pred</th>\n",
       "      <th>neighbors</th>\n",
       "      <th>lof</th>\n",
       "      <th>radius</th>\n",
       "      <th>outlier_pred_n</th>\n",
       "      <th>uid</th>\n",
       "    </tr>\n",
       "  </thead>\n",
       "  <tbody>\n",
       "  </tbody>\n",
       "</table>\n",
       "</div>"
      ],
      "text/plain": [
       "Empty DataFrame\n",
       "Columns: [x, y, outlier_pred, neighbors, lof, radius, outlier_pred_n, uid]\n",
       "Index: []"
      ]
     },
     "execution_count": 136,
     "metadata": {},
     "output_type": "execute_result"
    }
   ],
   "source": [
    "df_interact[df_interact.x==0]"
   ]
  },
  {
   "cell_type": "markdown",
   "id": "d6a5ef87-5e47-4be8-a15d-9da3ff3dbb70",
   "metadata": {},
   "source": [
    "# Interactive Figure with Plotly"
   ]
  },
  {
   "cell_type": "code",
   "execution_count": 137,
   "id": "f84a470f-2098-44ae-b50c-4f27e62791da",
   "metadata": {},
   "outputs": [
    {
     "data": {
      "text/html": [
       "<iframe\n",
       "    scrolling=\"no\"\n",
       "    width=\"820px\"\n",
       "    height=\"620\"\n",
       "    src=\"iframe_figures/figure_137.html\"\n",
       "    frameborder=\"0\"\n",
       "    allowfullscreen\n",
       "></iframe>\n"
      ]
     },
     "metadata": {},
     "output_type": "display_data"
    }
   ],
   "source": [
    "fig = px.scatter(df_interact, x=\"x\", y=\"y\",  \n",
    "                 color=\"outlier_pred_n\",\n",
    "                 animation_frame=\"neighbors\",\n",
    "                 animation_group=\"uid\",\n",
    "                 title=\"<b>Local Outlier Factor with Simulated Data</b>\",\n",
    "                 size = \"radius\",\n",
    "                 size_max=40,\n",
    "                 symbol_sequence=[\"circle-open-dot\"],\n",
    "                 labels={\n",
    "                     \"x\": \"X\",\n",
    "                     \"y\": \"Y\",\n",
    "                     \"outlier_pred_n\": \"Outlier Status\",\n",
    "                     \"neighbors\": \"Number of Neighbors\"\n",
    "                 })\n",
    "\n",
    "fig[\"layout\"].pop(\"updatemenus\")\n",
    "fig.update_traces(marker={\"line\":{\"width\":2}})\n",
    "fig.update_xaxes(range=[-0.25, 5])\n",
    "fig.update_yaxes(range=[-1, 6])\n",
    "\n",
    "fig.update_layout(\n",
    "    title={\n",
    "        'font':{'size':18},\n",
    "        'text': \"Outlier Classification Depends on Number of Neighbors\",\n",
    "        'y':0.95,\n",
    "        'x':0.355,\n",
    "        'xanchor': 'center',\n",
    "        'yanchor': 'top'},\n",
    "    margin=dict(l=50, r=50, t=50, b=10),\n",
    "    legend=dict(\n",
    "    yanchor=\"top\",\n",
    "    y=0.99,\n",
    "    xanchor=\"right\",\n",
    "    x=0.99\n",
    ")\n",
    ")\n",
    "fig['layout']['sliders'][0]['pad']=dict(l=-50, r=0, b=0, t=20)\n",
    "\n",
    "fig.update_layout(\n",
    "    autosize=False,\n",
    "    width=800, height=600,\n",
    "    font_family=\"Iosevka Term\",\n",
    "    font_color=\"black\",\n",
    "    title_font_family=\"Roboto Slab\",\n",
    "    title_font_color=\"black\",\n",
    "    legend_title_font_color=\"black\"\n",
    ")\n",
    "\n",
    "fig.show(\"iframe\")\n",
    "#fig.show(\"browser\")"
   ]
  },
  {
   "cell_type": "code",
   "execution_count": 138,
   "id": "8bf0b068-36cf-4718-99a5-7cd6b6a87c7e",
   "metadata": {},
   "outputs": [
    {
     "data": {
      "text/plain": [
       "1.0"
      ]
     },
     "execution_count": 138,
     "metadata": {},
     "output_type": "execute_result"
    }
   ],
   "source": [
    "df[\"radius\"].max()"
   ]
  },
  {
   "cell_type": "code",
   "execution_count": 85,
   "id": "c0558641-bdd7-4166-ac39-cbf4ea50e235",
   "metadata": {},
   "outputs": [
    {
     "data": {
      "text/markdown": [
       "Publishing document and associated data - *please wait...*"
      ],
      "text/plain": [
       "<IPython.core.display.Markdown object>"
      ]
     },
     "metadata": {},
     "output_type": "display_data"
    },
    {
     "data": {
      "text/markdown": [
       "Your report only contains a single element - did you know you can include additional plots, tables and text in a report? Check out [the docs](https://docs.datapane.com/reports/blocks/layout-pages-and-selects) for more info"
      ],
      "text/plain": [
       "<IPython.core.display.Markdown object>"
      ]
     },
     "metadata": {},
     "output_type": "display_data"
    },
    {
     "data": {
      "text/markdown": [
       "Your report doesn't contain any text - consider using TextReport to upload assets and add text to your report from your browser"
      ],
      "text/plain": [
       "<IPython.core.display.Markdown object>"
      ]
     },
     "metadata": {},
     "output_type": "display_data"
    },
    {
     "data": {
      "text/markdown": [
       "Report successfully uploaded, click [here](https://datapane.com/u/daniel70/reports/datapane-test/) to view your report and optionally share it with the Datapane Community"
      ],
      "text/plain": [
       "<IPython.core.display.Markdown object>"
      ]
     },
     "metadata": {},
     "output_type": "display_data"
    }
   ],
   "source": [
    "report = dp.Report(dp.Plot(fig, name=\"neighbors\", responsive=False) ) #Create a report\n",
    "report.upload(name='datapane_test', open=True) #Publish the report"
   ]
  },
  {
   "cell_type": "markdown",
   "id": "928ca391-cf80-4d0b-84a0-bfd74906e457",
   "metadata": {},
   "source": [
    "# Faceted Plot"
   ]
  },
  {
   "cell_type": "code",
   "execution_count": 21,
   "id": "84e6eb38-0a1d-467d-ad9d-4f6415fd16f8",
   "metadata": {},
   "outputs": [
    {
     "data": {
      "text/plain": [
       "Text(0.5, 1.0, 'One Blob with Outliers')"
      ]
     },
     "execution_count": 21,
     "metadata": {},
     "output_type": "execute_result"
    },
    {
     "data": {
      "image/png": "[encoded data removed]",
      "text/plain": [
       "<Figure size 450x450 with 1 Axes>"
      ]
     },
     "metadata": {
      "needs_background": "light"
     },
     "output_type": "display_data"
    }
   ],
   "source": [
    "data_1 = make_blobs(n_samples=[200], n_features=2, centers=[(0,0)],\n",
    "                      cluster_std=0.4, random_state=12)\n",
    "data_1 = pd.DataFrame(data_1[0])\n",
    "data_1[\"outlier\"] = 1\n",
    "outliers = {0:[-2, 1.7, 1.4, -1.8, 2, 0], 1:[-2, -1, 1.2, -1.5, 1.4, 1.5],\n",
    "           \"outlier\":-1}\n",
    "data_1 = data_1.append(pd.DataFrame(outliers))\n",
    "data_1.columns = [\"x\",\"y\",\"outlier\"]\n",
    "\n",
    "\n",
    "fix, ax = plt.subplots(figsize=(3,3), dpi=150)\n",
    "plt.scatter(x=\"x\", y=\"y\", data=data_1[data_1.outlier==1], s=2)\n",
    "plt.scatter(x=\"x\", y=\"y\", data=data_1[data_1.outlier==-1], s=2)\n",
    "ax.set_xlabel(\"x\")\n",
    "ax.set_ylabel(\"y\")\n",
    "plt.title(\"One Blob with Outliers\")"
   ]
  },
  {
   "cell_type": "code",
   "execution_count": 32,
   "id": "9018fc33-f2e4-4be1-aa33-ffbfa22635f7",
   "metadata": {},
   "outputs": [
    {
     "data": {
      "text/plain": [
       "Text(0.5, 1.0, 'Three Blobs with Outliers')"
      ]
     },
     "execution_count": 32,
     "metadata": {},
     "output_type": "execute_result"
    },
    {
     "data": {
      "image/png": "[encoded data removed]",
      "text/plain": [
       "<Figure size 450x450 with 1 Axes>"
      ]
     },
     "metadata": {
      "needs_background": "light"
     },
     "output_type": "display_data"
    }
   ],
   "source": [
    "data_2 = make_blobs(n_samples=[120, 50, 30], n_features=2, centers=[(-1,-1), (0, 1), (1.5,1.3)],\n",
    "                      cluster_std=[0.3, 0.2, 0.2], random_state=12)\n",
    "data_2 = pd.DataFrame(data_2[0])\n",
    "data_2[\"outlier\"] = 1\n",
    "outliers = {0:[-2, 2, 2.1, -1.8, 2.5, 0], 1:[-2, -1, 2, 2.2, 1.7, 2.3],\n",
    "           \"outlier\":-1}\n",
    "data_2 = data_2.append(pd.DataFrame(outliers))\n",
    "data_2.columns = [\"x\",\"y\",\"outlier\"]\n",
    "\n",
    "fix, ax = plt.subplots(figsize=(3,3), dpi=150)\n",
    "plt.scatter(x=\"x\", y=\"y\", data=data_2[data_2.outlier==1], s=2)\n",
    "plt.scatter(x=\"x\", y=\"y\", data=data_2[data_2.outlier==-1], s=2)\n",
    "ax.set_xlabel(\"x\")\n",
    "ax.set_ylabel(\"y\")\n",
    "plt.title(\"Three Blobs with Outliers\")"
   ]
  },
  {
   "cell_type": "code",
   "execution_count": 33,
   "id": "acc65c37-afd3-4cee-9b7f-fcf65c57754a",
   "metadata": {},
   "outputs": [],
   "source": [
    "# Prepare range of k\n",
    "X = data_1.loc[:,(\"x\",\"y\")].values\n",
    "outclass = []\n",
    "\n",
    "for i in range(5, 205, 5):\n",
    "    clf = LocalOutlierFactor(n_neighbors=i, contamination=\"auto\")\n",
    "    y_pred = clf.fit_predict(X)\n",
    "    score = clf.negative_outlier_factor_\n",
    "    radius = (score.max() - score) / (score.max() - score.min())\n",
    "    outclass += [np.array([y_pred, [i]*len(y_pred), score, radius]).T]\n",
    "    \n",
    "id = np.arange(1,len(X)+1,1)\n",
    "df_1 = pd.DataFrame(np.concatenate(outclass), columns = (\"outlier_pred\", \"neighbors\",\n",
    "                                                       \"lof\", \"radius\"))\n",
    "df_1[\"outlier_pred_n\"] = np.where(df_1[\"outlier_pred\"]==1, \"Not an Outlier\", \"Outlier\")\n",
    "coords = pd.DataFrame(np.tile(X, (40,1)), columns=(\"x\",\"y\"))\n",
    "df_interact_1 = pd.concat([coords,df_1], axis=1)\n",
    "df_interact_1[\"uid\"] = np.tile(id, 40)\n",
    "df_interact_1['centers'] = \"One Center\"\n",
    "\n",
    "# ------------------------------------\n",
    "\n",
    "X = data_2.loc[:,(\"x\",\"y\")].values\n",
    "outclass = []\n",
    "\n",
    "for i in range(5, 205, 5):\n",
    "    clf = LocalOutlierFactor(n_neighbors=i, contamination=\"auto\")\n",
    "    y_pred = clf.fit_predict(X)\n",
    "    score = clf.negative_outlier_factor_\n",
    "    radius = (score.max() - score) / (score.max() - score.min())\n",
    "    outclass += [np.array([y_pred, [i]*len(y_pred), score, radius]).T]\n",
    "    \n",
    "id = np.arange(len(X)+1,2*len(X)+1,1)\n",
    "df_2 = pd.DataFrame(np.concatenate(outclass), columns = (\"outlier_pred\", \"neighbors\",\n",
    "                                                       \"lof\", \"radius\"))\n",
    "df_2[\"outlier_pred_n\"] = np.where(df_1[\"outlier_pred\"]==1, \"Not an Outlier\", \"Outlier\")\n",
    "coords = pd.DataFrame(np.tile(X, (40,1)), columns=(\"x\",\"y\"))\n",
    "df_interact_2 = pd.concat([coords,df_2], axis=1)\n",
    "df_interact_2[\"uid\"] = np.tile(id, 40)\n",
    "df_interact_2['centers'] = \"Two Centers\"\n",
    "\n",
    "\n",
    "\n",
    "df_viz = pd.concat([df_interact_1, df_interact_2])"
   ]
  },
  {
   "cell_type": "code",
   "execution_count": 115,
   "id": "7eb2f40f-128d-4371-ae23-60c435d54daf",
   "metadata": {},
   "outputs": [
    {
     "data": {
      "text/html": [
       "<iframe\n",
       "    scrolling=\"no\"\n",
       "    width=\"920px\"\n",
       "    height=\"620\"\n",
       "    src=\"iframe_figures/figure_115.html\"\n",
       "    frameborder=\"0\"\n",
       "    allowfullscreen\n",
       "></iframe>\n"
      ]
     },
     "metadata": {},
     "output_type": "display_data"
    }
   ],
   "source": [
    "fig = px.scatter(df_viz, x=\"x\", y=\"y\",  \n",
    "                 color=\"outlier_pred_n\",\n",
    "                 animation_frame=\"neighbors\",\n",
    "                 animation_group=\"uid\",\n",
    "                 title=\"<b>Local Outlier Factor with Simulated Data</b>\",\n",
    "                 size = \"radius\",\n",
    "                 size_max=40,\n",
    "                 symbol_sequence=[\"circle-open-dot\"],\n",
    "                 color_discrete_sequence=[BLUE, RED],\n",
    "                 facet_col = \"centers\",\n",
    "                 labels={\n",
    "                     \"x\": \"X\",\n",
    "                     \"y\": \"Y\",\n",
    "                     \"outlier_pred_n\": \"Outlier Status\",\n",
    "                     \"neighbors\": \"Number of Neighbors\",\n",
    "                 \"radius\": \"radius\"},\n",
    "                hover_data = {\"radius\":False,\n",
    "                             \"centers\":False})\n",
    "fig.for_each_annotation(lambda a: a.update(text=a.text.replace(\"centers=\", \"\")))\n",
    "fig[\"layout\"].pop(\"updatemenus\")\n",
    "fig.update_traces(marker={\"line\":{\"width\":2}})\n",
    "fig.update_xaxes(range=[-2.5, 2.5])\n",
    "fig.update_yaxes(range=[-2.5, 3])\n",
    "\n",
    "fig.update_layout(\n",
    "    title={\n",
    "        'font':{'size':18},\n",
    "        'text': \"Outlier Detection with LOF<br>Depends on Number of Neighbors\",\n",
    "        'y':0.97,\n",
    "        'x':0.5,\n",
    "        'xanchor': 'center',\n",
    "        'yanchor': 'top'},\n",
    "    margin=dict(l=50, r=50, t=50, b=10),\n",
    "    legend=dict(\n",
    "    yanchor=\"top\",\n",
    "    y=0.99,\n",
    "    xanchor=\"right\",\n",
    "    x=0.99\n",
    ")\n",
    ")\n",
    "\n",
    "fig.add_annotation(x=0, y=-1.5,\n",
    "            text=\"<b>Cluster 1</b>:<br>Center: (0,0)<br>N=200<br>SD: 0.4\",\n",
    "            showarrow=False)\n",
    "\n",
    "fig.add_annotation(x=-0.5, y=-2.1, xref=\"x2\",\n",
    "            text=\"<b>Cluster 1</b> :<br>Center: (-1,1.5))<br>N=120<br>SD: 0.3\",\n",
    "            showarrow=False)\n",
    "\n",
    "fig.add_annotation(x=-0.25, y=0.18, xref=\"x2\",\n",
    "            text=\"<b>Cluster 2</b>:<br>Center: (0,1))<br>N=50<br>SD: 0.2\",\n",
    "            showarrow=False)\n",
    "\n",
    "fig.add_annotation(x=1.5, y=0.55, xref=\"x2\",\n",
    "            text=\"<b>Cluster 3</b>:<br>Center: (1.5,1.3)<br>N=30<br>SD: 0.2\",\n",
    "            showarrow=False)\n",
    "\n",
    "fig.add_annotation(x=0, y=0.98, xref=\"paper\", yref=\"paper\",\n",
    "            text=\"Circle radii are proportional to Local Outlier Factor score\",\n",
    "            showarrow=False, align=\"left\", )\n",
    "\n",
    "fig['layout']['sliders'][0]['pad']=dict(l=-50, r=0, b=0, t=20)\n",
    "\n",
    "fig.update_layout(\n",
    "    autosize=False,\n",
    "    width=900, height=600,\n",
    "    font_family=\"Iosevka Term\",\n",
    "    font_color=\"black\",\n",
    "    title_font_family=\"Roboto Slab\",\n",
    "    title_font_color=\"black\",\n",
    "    legend_title_font_color=\"black\"\n",
    ")\n",
    "\n",
    "fig.show(\"iframe\")\n",
    "#fig.show(\"browser\")"
   ]
  },
  {
   "cell_type": "code",
   "execution_count": 116,
   "id": "986d3539-8903-40e0-8e89-ab9495c893e6",
   "metadata": {},
   "outputs": [
    {
     "data": {
      "text/markdown": [
       "Publishing document and associated data - *please wait...*"
      ],
      "text/plain": [
       "<IPython.core.display.Markdown object>"
      ]
     },
     "metadata": {},
     "output_type": "display_data"
    },
    {
     "data": {
      "text/markdown": [
       "Your report only contains a single element - did you know you can include additional plots, tables and text in a report? Check out [the docs](https://docs.datapane.com/reports/blocks/layout-pages-and-selects) for more info"
      ],
      "text/plain": [
       "<IPython.core.display.Markdown object>"
      ]
     },
     "metadata": {},
     "output_type": "display_data"
    },
    {
     "data": {
      "text/markdown": [
       "Your report doesn't contain any text - consider using TextReport to upload assets and add text to your report from your browser"
      ],
      "text/plain": [
       "<IPython.core.display.Markdown object>"
      ]
     },
     "metadata": {},
     "output_type": "display_data"
    },
    {
     "data": {
      "text/markdown": [
       "Report successfully uploaded, click [here](https://datapane.com/u/daniel70/reports/lof-neighbors/) to view your report and optionally share it with the Datapane Community"
      ],
      "text/plain": [
       "<IPython.core.display.Markdown object>"
      ]
     },
     "metadata": {},
     "output_type": "display_data"
    }
   ],
   "source": [
    "report = dp.Report(dp.Plot(fig, name=\"neighbors\", responsive=False) ) #Create a report\n",
    "report.upload(name='lof_neighbors', open=True) #Publish the report"
   ]
  },
  {
   "cell_type": "code",
   "execution_count": null,
   "id": "8da30e81-5b2f-44be-8ef3-86f865111424",
   "metadata": {},
   "outputs": [],
   "source": []
  }
 ],
 "metadata": {
  "kernelspec": {
   "display_name": "lof",
   "language": "python",
   "name": "lof"
  },
  "language_info": {
   "codemirror_mode": {
    "name": "ipython",
    "version": 3
   },
   "file_extension": ".py",
   "mimetype": "text/x-python",
   "name": "python",
   "nbconvert_exporter": "python",
   "pygments_lexer": "ipython3",
   "version": "3.9.5"
  }
 },
 "nbformat": 4,
 "nbformat_minor": 5
}
